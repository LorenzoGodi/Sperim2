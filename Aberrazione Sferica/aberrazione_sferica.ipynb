{
 "cells": [
  {
   "cell_type": "markdown",
   "id": "a1fe186d-a834-4578-8f82-973b7916d128",
   "metadata": {},
   "source": [
    "# Esperienza 4\n",
    "## Misura dell'aberrazione sferica di una lente convergente sottile"
   ]
  },
  {
   "cell_type": "code",
   "execution_count": null,
   "id": "4120f27e-52ba-4446-8291-c515ad7e7a90",
   "metadata": {},
   "outputs": [],
   "source": []
  }
 ],
 "metadata": {
  "kernelspec": {
   "display_name": "Python 3 (ipykernel)",
   "language": "python",
   "name": "python3"
  },
  "language_info": {
   "codemirror_mode": {
    "name": "ipython",
    "version": 3
   },
   "file_extension": ".py",
   "mimetype": "text/x-python",
   "name": "python",
   "nbconvert_exporter": "python",
   "pygments_lexer": "ipython3",
   "version": "3.10.8"
  }
 },
 "nbformat": 4,
 "nbformat_minor": 5
}

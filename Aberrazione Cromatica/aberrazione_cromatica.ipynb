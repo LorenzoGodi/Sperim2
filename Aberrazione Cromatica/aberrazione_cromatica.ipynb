{
 "cells": [
  {
   "cell_type": "markdown",
   "id": "4986a291-a0e0-4523-b091-b09161bf8644",
   "metadata": {},
   "source": [
    "# Esperienza 3\n",
    "## Misura dell'aberrazione cromatica"
   ]
  },
  {
   "cell_type": "code",
   "execution_count": null,
   "id": "86ab3ff1-ca34-424c-b938-3d1a4bfeedf6",
   "metadata": {},
   "outputs": [],
   "source": []
  }
 ],
 "metadata": {
  "kernelspec": {
   "display_name": "Python 3 (ipykernel)",
   "language": "python",
   "name": "python3"
  },
  "language_info": {
   "codemirror_mode": {
    "name": "ipython",
    "version": 3
   },
   "file_extension": ".py",
   "mimetype": "text/x-python",
   "name": "python",
   "nbconvert_exporter": "python",
   "pygments_lexer": "ipython3",
   "version": "3.10.8"
  }
 },
 "nbformat": 4,
 "nbformat_minor": 5
}
